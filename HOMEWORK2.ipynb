{
  "nbformat": 4,
  "nbformat_minor": 0,
  "metadata": {
    "colab": {
      "name": "HOMEWORK2.ipynb",
      "provenance": [],
      "collapsed_sections": [],
      "authorship_tag": "ABX9TyP3bpzb8b++4VD0ub+vWupD",
      "include_colab_link": true
    },
    "kernelspec": {
      "name": "python3",
      "display_name": "Python 3"
    },
    "language_info": {
      "name": "python"
    }
  },
  "cells": [
    {
      "cell_type": "markdown",
      "metadata": {
        "id": "view-in-github",
        "colab_type": "text"
      },
      "source": [
        "<a href=\"https://colab.research.google.com/github/WAsuquo/homework2/blob/main/HOMEWORK2.ipynb\" target=\"_parent\"><img src=\"https://colab.research.google.com/assets/colab-badge.svg\" alt=\"Open In Colab\"/></a>"
      ]
    },
    {
      "cell_type": "code",
      "execution_count": null,
      "metadata": {
        "colab": {
          "base_uri": "https://localhost:8080/"
        },
        "id": "9qDjZTk9_CTY",
        "outputId": "5ebb4059-2dcf-4883-b01b-b01822017854"
      },
      "outputs": [
        {
          "output_type": "stream",
          "name": "stdout",
          "text": [
            "4\n",
            "350\n",
            "14\n",
            "20.0\n",
            "256\n",
            "1\n"
          ]
        }
      ],
      "source": [
        "print(3+1)\n",
        "print(450-100)\n",
        "print(7*2)\n",
        "print(100/5)\n",
        "print(4**4)\n",
        "print(5%4)"
      ]
    },
    {
      "cell_type": "markdown",
      "source": [
        "# One Example Each of Maths Addition Subtraction Multiplication Division Modulo and Exponential Operations"
      ],
      "metadata": {
        "id": "gj5TosFKEbnz"
      }
    },
    {
      "cell_type": "markdown",
      "source": [
        "# Three Correct Variables\n",
        "\n",
        "1. my_2babies = \"Mine\"\n",
        "2. my_helloworld = 'Awesome'\n",
        "3. my_variables = \"Hello\"\n",
        "\n",
        "# Three Incorrect Variables\n",
        "\n",
        "1. My-2babies = \"Mine\"\n",
        "2. myhelloworld = \"Awesome\"\n",
        "3. my_variables = 'Hello\"\n",
        "\n",
        "# Two Samples Of Integer \n",
        "\n",
        "1. my_code_me = 4\n",
        "2. my_happy_number = 10\n",
        "\n",
        "# Two Samples of Float\n",
        "\n",
        "1. my_points = 3.41\n",
        "2. the_total = 2.1\n",
        "\n",
        "# Two Samples of Sting\n",
        "\n",
        "1. name = \"Warebi\"\n",
        "2. surname = 'Asuquo'\n",
        "\n",
        "# Two Samples of Boolean\n",
        "\n",
        "1. my_life = True\n",
        "2. print (23 = 21) = False"
      ],
      "metadata": {
        "id": "Mo4-z0H9_Da_"
      }
    }
  ]
}